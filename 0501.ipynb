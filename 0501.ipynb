{
  "nbformat": 4,
  "nbformat_minor": 0,
  "metadata": {
    "colab": {
      "provenance": [],
      "authorship_tag": "ABX9TyOJWO6HL0Lo7SmUvdjoowUu",
      "include_colab_link": true
    },
    "kernelspec": {
      "name": "python3",
      "display_name": "Python 3"
    },
    "language_info": {
      "name": "python"
    }
  },
  "cells": [
    {
      "cell_type": "markdown",
      "metadata": {
        "id": "view-in-github",
        "colab_type": "text"
      },
      "source": [
        "<a href=\"https://colab.research.google.com/github/411600447tsui/Introduction-to-Computers/blob/main/0501.ipynb\" target=\"_parent\"><img src=\"https://colab.research.google.com/assets/colab-badge.svg\" alt=\"Open In Colab\"/></a>"
      ]
    },
    {
      "cell_type": "code",
      "execution_count": 1,
      "metadata": {
        "colab": {
          "base_uri": "https://localhost:8080/"
        },
        "id": "E-3zXjQbKtVs",
        "outputId": "057e9f5d-c22e-4e6e-cc3c-818387aee13f"
      },
      "outputs": [
        {
          "output_type": "stream",
          "name": "stdout",
          "text": [
            "請輸入本金存款金額10000\n",
            "6年後的存款金額為:11261.62419264\n"
          ]
        }
      ],
      "source": [
        "m=int(input(\"請輸入本金存款金額\"))\n",
        "years=1.02**6\n",
        "print(\"6年後的存款金額為:\"+str(m*years))"
      ]
    },
    {
      "cell_type": "code",
      "source": [
        "print(\"Hello World\")"
      ],
      "metadata": {
        "colab": {
          "base_uri": "https://localhost:8080/"
        },
        "id": "4G6WprT4Mq2h",
        "outputId": "523b10fa-12e9-49a5-cafa-4155e2ca9c1f"
      },
      "execution_count": 2,
      "outputs": [
        {
          "output_type": "stream",
          "name": "stdout",
          "text": [
            "Hello World\n"
          ]
        }
      ]
    },
    {
      "cell_type": "code",
      "source": [
        "n = 5  \n",
        "total = 0  \n",
        "for i in range(1, n+1):\n",
        "    total += i  \n",
        "print(\"從1到{}的整數和為: {}\".format(n, total))"
      ],
      "metadata": {
        "colab": {
          "base_uri": "https://localhost:8080/"
        },
        "id": "bHjlVv5gVoFa",
        "outputId": "4795a42c-2d15-48cc-c2f5-a2dcbb558746"
      },
      "execution_count": 30,
      "outputs": [
        {
          "output_type": "stream",
          "name": "stdout",
          "text": [
            "從1到5的整數和為: 15\n"
          ]
        }
      ]
    },
    {
      "cell_type": "code",
      "source": [
        "f = 100\n",
        "c = (f - 32) * 5/9\n",
        "output_string = \"攝氏溫度為: %.1f\" % c\n",
        "print(output_string)"
      ],
      "metadata": {
        "colab": {
          "base_uri": "https://localhost:8080/"
        },
        "id": "DdtN9Ox4Uai4",
        "outputId": "d927c830-76a0-420e-a9d1-d1a743365ba8"
      },
      "execution_count": 33,
      "outputs": [
        {
          "output_type": "stream",
          "name": "stdout",
          "text": [
            "攝氏溫度為: 37.8\n"
          ]
        }
      ]
    }
  ]
}