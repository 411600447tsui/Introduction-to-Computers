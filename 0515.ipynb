{
  "nbformat": 4,
  "nbformat_minor": 0,
  "metadata": {
    "colab": {
      "provenance": [],
      "authorship_tag": "ABX9TyM1fNRFVU0hs6pHqgEun7Bm",
      "include_colab_link": true
    },
    "kernelspec": {
      "name": "python3",
      "display_name": "Python 3"
    },
    "language_info": {
      "name": "python"
    }
  },
  "cells": [
    {
      "cell_type": "markdown",
      "metadata": {
        "id": "view-in-github",
        "colab_type": "text"
      },
      "source": [
        "<a href=\"https://colab.research.google.com/github/411600447tsui/Introduction-to-Computers/blob/main/0515.ipynb\" target=\"_parent\"><img src=\"https://colab.research.google.com/assets/colab-badge.svg\" alt=\"Open In Colab\"/></a>"
      ]
    },
    {
      "cell_type": "code",
      "source": [
        "rain=input(\"今天會下雨嗎?\")\n",
        "if rain == \"Y\" :\n",
        "  print(\"出門記得帶傘\")\n",
        "elif rain == \"y\" :\n",
        "  print(\"出門記得帶傘\")\n",
        "elif rain == \"n\" :\n",
        "  print(\"出門記得帶傘\")\n",
        "elif rain == \"N\" :\n",
        "  print(\"出門記得帶傘\")\n",
        "else :\n",
        "  print(\"請重新輸入\")"
      ],
      "metadata": {
        "colab": {
          "base_uri": "https://localhost:8080/"
        },
        "id": "-qpxHt8WeUU7",
        "outputId": "14074acf-af7b-4add-f35c-7399514f0438"
      },
      "execution_count": 36,
      "outputs": [
        {
          "output_type": "stream",
          "name": "stdout",
          "text": [
            "今天會下雨嗎?n\n",
            "出門記得帶傘\n"
          ]
        }
      ]
    },
    {
      "cell_type": "code",
      "source": [
        "t=int(input(\"請輸入體溫:\"))\n",
        "if t >= 37.5 :\n",
        "  print(\"體溫過高\")\n",
        "elif 37<=t<=37.4 :\n",
        "  print(\"體溫略高\")\n",
        "elif 34<=t<=36.9 :\n",
        "  print(\"體溫正常\")\n",
        "else :\n",
        "  print(\"體溫異常,請重新量測\")"
      ],
      "metadata": {
        "colab": {
          "base_uri": "https://localhost:8080/"
        },
        "id": "REEw22RuSXbn",
        "outputId": "849523d2-d05f-4f69-fac0-4253d36fc558"
      },
      "execution_count": 14,
      "outputs": [
        {
          "output_type": "stream",
          "name": "stdout",
          "text": [
            "請輸入體溫:37\n",
            "體溫略高\n"
          ]
        }
      ]
    },
    {
      "cell_type": "code",
      "source": [
        "s=int(input(\"請輸入成績:\"))\n",
        "if s >= 90 :\n",
        "  print(\"A\")\n",
        "elif s >= 80 :\n",
        "  print(\"B\")\n",
        "elif s >= 70 :\n",
        "  print(\"C\")\n",
        "elif s >= 60 :\n",
        "  print(\"D\")\n",
        "else :\n",
        "  print(\"E\")"
      ],
      "metadata": {
        "colab": {
          "base_uri": "https://localhost:8080/"
        },
        "id": "wd0xFyZxSXe6",
        "outputId": "8ae9e546-26a0-4403-bcae-33cfaa89f4cc"
      },
      "execution_count": 16,
      "outputs": [
        {
          "output_type": "stream",
          "name": "stdout",
          "text": [
            "請輸入成績:89\n",
            "B\n"
          ]
        }
      ]
    },
    {
      "cell_type": "code",
      "source": [
        "month=int(input(\"請輸入月份:\"))\n",
        "if month in [3,4,5] :\n",
        "  season=\"春天\"\n",
        "elif month in [6,7,8] :\n",
        "  season=\"夏天\"\n",
        "elif month in [9,10,11] :\n",
        "  season=\"秋天\"\n",
        "elif month in [12,1,2] :\n",
        "  season=\"冬天\"\n",
        "else :\n",
        "  season=\"月份不在範圍內\"\n",
        "print(f\"{month}月是{season}\")"
      ],
      "metadata": {
        "colab": {
          "base_uri": "https://localhost:8080/"
        },
        "id": "EI6CPxu0SXhy",
        "outputId": "2e0d2fdb-0def-411f-ff2b-6daadb00610d"
      },
      "execution_count": 27,
      "outputs": [
        {
          "output_type": "stream",
          "name": "stdout",
          "text": [
            "請輸入月份:6\n",
            "6月是夏天\n"
          ]
        }
      ]
    },
    {
      "cell_type": "code",
      "source": [
        "income=float(input(\"請輸入今年收入淨額:\"))\n",
        "if income >= 2000000 :\n",
        "  tax = income * 0.3\n",
        "elif income >= 1000000 :\n",
        "  tax = income * 0.21\n",
        "elif income >= 600000 :\n",
        "  tax = income * 0.13\n",
        "elif income >= 300000 :\n",
        "  tax = income * 0.06\n",
        "else :\n",
        "  tax=0\n",
        "print(f\"付稅金額為:{tax}元\")"
      ],
      "metadata": {
        "colab": {
          "base_uri": "https://localhost:8080/"
        },
        "id": "qq_ItXxnSudI",
        "outputId": "548e0792-479f-4fe3-c2b2-31ad3e9e7a92"
      },
      "execution_count": 30,
      "outputs": [
        {
          "output_type": "stream",
          "name": "stdout",
          "text": [
            "請輸入今年收入淨額:300000\n",
            "付稅金額為:18000.0元\n"
          ]
        }
      ]
    },
    {
      "cell_type": "code",
      "source": [],
      "metadata": {
        "id": "8ZPNF2qGSugQ"
      },
      "execution_count": null,
      "outputs": []
    }
  ]
}