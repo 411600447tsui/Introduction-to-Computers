{
  "nbformat": 4,
  "nbformat_minor": 0,
  "metadata": {
    "colab": {
      "provenance": [],
      "authorship_tag": "ABX9TyN1B3fNG4jhS2cD79sp2/v7",
      "include_colab_link": true
    },
    "kernelspec": {
      "name": "python3",
      "display_name": "Python 3"
    },
    "language_info": {
      "name": "python"
    }
  },
  "cells": [
    {
      "cell_type": "markdown",
      "metadata": {
        "id": "view-in-github",
        "colab_type": "text"
      },
      "source": [
        "<a href=\"https://colab.research.google.com/github/411600447tsui/Introduction-to-Computers/blob/main/Untitled0.ipynb\" target=\"_parent\"><img src=\"https://colab.research.google.com/assets/colab-badge.svg\" alt=\"Open In Colab\"/></a>"
      ]
    },
    {
      "cell_type": "code",
      "execution_count": 1,
      "metadata": {
        "colab": {
          "base_uri": "https://localhost:8080/"
        },
        "id": "qBeWuy4Q1C7E",
        "outputId": "3d88dcc8-9d42-4d25-9298-dc56a4ff7629"
      },
      "outputs": [
        {
          "output_type": "stream",
          "name": "stdout",
          "text": [
            "0313\n"
          ]
        }
      ],
      "source": [
        "print(\"0313\")"
      ]
    },
    {
      "cell_type": "code",
      "source": [
        "a = b = c = 1"
      ],
      "metadata": {
        "id": "i49bquwc-4ZB"
      },
      "execution_count": 42,
      "outputs": []
    },
    {
      "cell_type": "code",
      "source": [
        "a, b, c"
      ],
      "metadata": {
        "colab": {
          "base_uri": "https://localhost:8080/"
        },
        "id": "WsBCCYwF-4h5",
        "outputId": "c966f168-1284-437e-e1e6-53695b1bd0b3"
      },
      "execution_count": 43,
      "outputs": [
        {
          "output_type": "execute_result",
          "data": {
            "text/plain": [
              "(1, 1, 1)"
            ]
          },
          "metadata": {},
          "execution_count": 43
        }
      ]
    },
    {
      "cell_type": "code",
      "source": [
        "d = \"1\""
      ],
      "metadata": {
        "id": "T9HxYtDF-4ll"
      },
      "execution_count": 37,
      "outputs": []
    },
    {
      "cell_type": "code",
      "source": [
        "a, d"
      ],
      "metadata": {
        "colab": {
          "base_uri": "https://localhost:8080/"
        },
        "id": "qafkcBj2_QTy",
        "outputId": "8bc0df5f-737f-4931-f3ce-6e8c5d91daad"
      },
      "execution_count": 38,
      "outputs": [
        {
          "output_type": "execute_result",
          "data": {
            "text/plain": [
              "(1, '1')"
            ]
          },
          "metadata": {},
          "execution_count": 38
        }
      ]
    },
    {
      "cell_type": "code",
      "source": [
        "a + b + c"
      ],
      "metadata": {
        "colab": {
          "base_uri": "https://localhost:8080/"
        },
        "id": "Vb04Jquq_QY-",
        "outputId": "79421da1-01a6-4c5b-d5ff-99142175d84d"
      },
      "execution_count": 39,
      "outputs": [
        {
          "output_type": "execute_result",
          "data": {
            "text/plain": [
              "3"
            ]
          },
          "metadata": {},
          "execution_count": 39
        }
      ]
    },
    {
      "cell_type": "code",
      "source": [
        "e = 123"
      ],
      "metadata": {
        "id": "87Dvqhc7_Qbn"
      },
      "execution_count": 41,
      "outputs": []
    },
    {
      "cell_type": "code",
      "source": [
        "f = \"123\""
      ],
      "metadata": {
        "id": "9-FlIOVU_pwa"
      },
      "execution_count": 40,
      "outputs": []
    },
    {
      "cell_type": "code",
      "source": [
        "e"
      ],
      "metadata": {
        "colab": {
          "base_uri": "https://localhost:8080/"
        },
        "id": "U5GPg53g_p5i",
        "outputId": "8e4c6764-db7f-444a-c490-18835b29c5e2"
      },
      "execution_count": 44,
      "outputs": [
        {
          "output_type": "execute_result",
          "data": {
            "text/plain": [
              "123"
            ]
          },
          "metadata": {},
          "execution_count": 44
        }
      ]
    },
    {
      "cell_type": "code",
      "source": [
        "f"
      ],
      "metadata": {
        "colab": {
          "base_uri": "https://localhost:8080/",
          "height": 35
        },
        "id": "m2HRmLj8_vOj",
        "outputId": "b0397fd6-071e-449f-baeb-c1adcb19257a"
      },
      "execution_count": 45,
      "outputs": [
        {
          "output_type": "execute_result",
          "data": {
            "text/plain": [
              "'123'"
            ],
            "application/vnd.google.colaboratory.intrinsic+json": {
              "type": "string"
            }
          },
          "metadata": {},
          "execution_count": 45
        }
      ]
    },
    {
      "cell_type": "code",
      "source": [
        "print(f)"
      ],
      "metadata": {
        "colab": {
          "base_uri": "https://localhost:8080/"
        },
        "id": "XZZlfF_r_xMR",
        "outputId": "9c00ffb7-6930-4ac0-87d6-0fed24358265"
      },
      "execution_count": 46,
      "outputs": [
        {
          "output_type": "stream",
          "name": "stdout",
          "text": [
            "123\n"
          ]
        }
      ]
    },
    {
      "cell_type": "code",
      "source": [
        "g=\"0103\""
      ],
      "metadata": {
        "id": "gfXXkN_K_368"
      },
      "execution_count": 47,
      "outputs": []
    },
    {
      "cell_type": "code",
      "source": [
        "g"
      ],
      "metadata": {
        "colab": {
          "base_uri": "https://localhost:8080/",
          "height": 35
        },
        "id": "_3iedrUq_9B4",
        "outputId": "0124735f-450d-4aee-b877-ae023d643e9f"
      },
      "execution_count": 48,
      "outputs": [
        {
          "output_type": "execute_result",
          "data": {
            "text/plain": [
              "'0103'"
            ],
            "application/vnd.google.colaboratory.intrinsic+json": {
              "type": "string"
            }
          },
          "metadata": {},
          "execution_count": 48
        }
      ]
    },
    {
      "cell_type": "code",
      "source": [
        "age , name = 18 ,\"崔竣幃\""
      ],
      "metadata": {
        "id": "RLXrcfYo16tj"
      },
      "execution_count": 5,
      "outputs": []
    },
    {
      "cell_type": "code",
      "source": [
        "age , name"
      ],
      "metadata": {
        "colab": {
          "base_uri": "https://localhost:8080/"
        },
        "id": "9eXANqEx162h",
        "outputId": "27fefd55-6ee8-4c64-e92e-94726eb91a2a"
      },
      "execution_count": 6,
      "outputs": [
        {
          "output_type": "execute_result",
          "data": {
            "text/plain": [
              "(18, '崔竣幃')"
            ]
          },
          "metadata": {},
          "execution_count": 6
        }
      ]
    },
    {
      "cell_type": "code",
      "source": [
        "day = \"0313\""
      ],
      "metadata": {
        "id": "kJuU5B0D2zSh"
      },
      "execution_count": 7,
      "outputs": []
    },
    {
      "cell_type": "code",
      "source": [
        "hi = \"你好\""
      ],
      "metadata": {
        "id": "EZC12Ofp2zaP"
      },
      "execution_count": 9,
      "outputs": []
    },
    {
      "cell_type": "code",
      "source": [
        "print(\"今天是\",day,hi,\"我是\",name)"
      ],
      "metadata": {
        "colab": {
          "base_uri": "https://localhost:8080/"
        },
        "id": "BNnSCBYH3tx_",
        "outputId": "bd7eaf68-b963-49ad-ec04-403f8bca3511"
      },
      "execution_count": 12,
      "outputs": [
        {
          "output_type": "stream",
          "name": "stdout",
          "text": [
            "今天是 0313 你好 我是 崔竣幃\n"
          ]
        }
      ]
    },
    {
      "cell_type": "code",
      "source": [
        "print(\"今天是\"+day+hi+\"我是\"+name)"
      ],
      "metadata": {
        "colab": {
          "base_uri": "https://localhost:8080/"
        },
        "id": "D8xc8mrx3t3b",
        "outputId": "52177f40-eddb-43ae-ef6b-a231a4799af4"
      },
      "execution_count": 13,
      "outputs": [
        {
          "output_type": "stream",
          "name": "stdout",
          "text": [
            "今天是0313你好我是崔竣幃\n"
          ]
        }
      ]
    },
    {
      "cell_type": "code",
      "source": [
        "print(\"今天是\"+day+\",\"+hi+\"!\"+\"我是\"+name+\"!\")"
      ],
      "metadata": {
        "colab": {
          "base_uri": "https://localhost:8080/"
        },
        "id": "5aZ32HC14R2b",
        "outputId": "3ef9936f-ffac-4853-9cbe-caa0a21e6773"
      },
      "execution_count": 14,
      "outputs": [
        {
          "output_type": "stream",
          "name": "stdout",
          "text": [
            "今天是0313,你好!我是崔竣幃!\n"
          ]
        }
      ]
    },
    {
      "cell_type": "code",
      "source": [
        "h = 1\n",
        "i = 2\n",
        "j = 3"
      ],
      "metadata": {
        "id": "V2fuqRwU4R5F"
      },
      "execution_count": 18,
      "outputs": []
    },
    {
      "cell_type": "code",
      "source": [
        "h"
      ],
      "metadata": {
        "colab": {
          "base_uri": "https://localhost:8080/"
        },
        "id": "mgc7N1Ss6Wn-",
        "outputId": "c484a64e-fbfd-4d99-e42d-dbfd733c31d1"
      },
      "execution_count": 16,
      "outputs": [
        {
          "output_type": "execute_result",
          "data": {
            "text/plain": [
              "1"
            ]
          },
          "metadata": {},
          "execution_count": 16
        }
      ]
    },
    {
      "cell_type": "code",
      "source": [
        "i"
      ],
      "metadata": {
        "colab": {
          "base_uri": "https://localhost:8080/"
        },
        "id": "Bugt-NvM6vA-",
        "outputId": "7733e4e8-8915-4e34-8e0e-dfdad3825642"
      },
      "execution_count": 19,
      "outputs": [
        {
          "output_type": "execute_result",
          "data": {
            "text/plain": [
              "2"
            ]
          },
          "metadata": {},
          "execution_count": 19
        }
      ]
    },
    {
      "cell_type": "code",
      "source": [
        "j"
      ],
      "metadata": {
        "colab": {
          "base_uri": "https://localhost:8080/"
        },
        "id": "1dl4tePQ6WqY",
        "outputId": "24883bd3-c456-48b9-b228-d8073c917254"
      },
      "execution_count": 20,
      "outputs": [
        {
          "output_type": "execute_result",
          "data": {
            "text/plain": [
              "3"
            ]
          },
          "metadata": {},
          "execution_count": 20
        }
      ]
    },
    {
      "cell_type": "code",
      "source": [
        "h,i,j"
      ],
      "metadata": {
        "colab": {
          "base_uri": "https://localhost:8080/"
        },
        "id": "1MXAtCGX60L9",
        "outputId": "92ae79b5-d7e6-432c-e08e-b92a43ec353a"
      },
      "execution_count": 21,
      "outputs": [
        {
          "output_type": "execute_result",
          "data": {
            "text/plain": [
              "(1, 2, 3)"
            ]
          },
          "metadata": {},
          "execution_count": 21
        }
      ]
    },
    {
      "cell_type": "code",
      "source": [
        "str = \"這是字串\""
      ],
      "metadata": {
        "id": "-zP6czhh60P2"
      },
      "execution_count": 22,
      "outputs": []
    },
    {
      "cell_type": "code",
      "source": [
        "str"
      ],
      "metadata": {
        "colab": {
          "base_uri": "https://localhost:8080/",
          "height": 35
        },
        "id": "xaysFLZW654Y",
        "outputId": "6884a6e7-480e-486f-c855-94d40fce8437"
      },
      "execution_count": 23,
      "outputs": [
        {
          "output_type": "execute_result",
          "data": {
            "text/plain": [
              "'這是字串'"
            ],
            "application/vnd.google.colaboratory.intrinsic+json": {
              "type": "string"
            }
          },
          "metadata": {},
          "execution_count": 23
        }
      ]
    },
    {
      "cell_type": "code",
      "source": [
        "str1=\"崔竣幃說:'hey,你好!'\"\n",
        "str2='崔竣幃說:\"hey,你好!\"'\n"
      ],
      "metadata": {
        "id": "NGgJC8LC659B"
      },
      "execution_count": 31,
      "outputs": []
    },
    {
      "cell_type": "code",
      "source": [
        "str1"
      ],
      "metadata": {
        "colab": {
          "base_uri": "https://localhost:8080/",
          "height": 35
        },
        "id": "KGD2Qwc660T1",
        "outputId": "28b59de5-7a93-4819-ab3e-d4baa22ca482"
      },
      "execution_count": 32,
      "outputs": [
        {
          "output_type": "execute_result",
          "data": {
            "text/plain": [
              "\"崔竣幃說:'hey,你好!'\""
            ],
            "application/vnd.google.colaboratory.intrinsic+json": {
              "type": "string"
            }
          },
          "metadata": {},
          "execution_count": 32
        }
      ]
    },
    {
      "cell_type": "code",
      "source": [
        "str2"
      ],
      "metadata": {
        "colab": {
          "base_uri": "https://localhost:8080/",
          "height": 35
        },
        "id": "7QRMi_tW8IX2",
        "outputId": "fa61e52e-969b-443e-afc3-a65fda50803a"
      },
      "execution_count": 26,
      "outputs": [
        {
          "output_type": "execute_result",
          "data": {
            "text/plain": [
              "'崔竣幃說:\"hey,你好!\"'"
            ],
            "application/vnd.google.colaboratory.intrinsic+json": {
              "type": "string"
            }
          },
          "metadata": {},
          "execution_count": 26
        }
      ]
    },
    {
      "cell_type": "code",
      "source": [
        "print(str1)"
      ],
      "metadata": {
        "colab": {
          "base_uri": "https://localhost:8080/"
        },
        "id": "8oXhfcGU8Idn",
        "outputId": "a8a04deb-b565-4b15-bb5f-d28dc1198091"
      },
      "execution_count": 29,
      "outputs": [
        {
          "output_type": "stream",
          "name": "stdout",
          "text": [
            "崔竣幃說:'hey,你好!'\n"
          ]
        }
      ]
    },
    {
      "cell_type": "code",
      "source": [
        "print(str2)"
      ],
      "metadata": {
        "colab": {
          "base_uri": "https://localhost:8080/"
        },
        "id": "M2Bwsz2M8hw5",
        "outputId": "66a32b12-846d-48d5-88a6-5c1d96e8b11b"
      },
      "execution_count": 30,
      "outputs": [
        {
          "output_type": "stream",
          "name": "stdout",
          "text": [
            "崔竣幃說:\"hey,你好!\"\n"
          ]
        }
      ]
    },
    {
      "cell_type": "code",
      "source": [
        "print(type(56))\n",
        "print(type(56.0))\n",
        "print(type(\"hey man , how are you\"))\n",
        "print(type(True))"
      ],
      "metadata": {
        "colab": {
          "base_uri": "https://localhost:8080/"
        },
        "id": "SCn2j7xT8stH",
        "outputId": "ed00b946-8df7-46cb-aae3-8a7c5d3e0911"
      },
      "execution_count": 33,
      "outputs": [
        {
          "output_type": "stream",
          "name": "stdout",
          "text": [
            "<class 'int'>\n",
            "<class 'float'>\n",
            "<class 'str'>\n",
            "<class 'bool'>\n"
          ]
        }
      ]
    },
    {
      "cell_type": "code",
      "source": [
        "print(type(a),type(b),type(c),type(d),type(e),type(f),type(g),type(h),type(i),type(j))  "
      ],
      "metadata": {
        "colab": {
          "base_uri": "https://localhost:8080/"
        },
        "id": "zdMIccIg8sxK",
        "outputId": "9388823a-a317-4d1e-cf54-742566bce2f0"
      },
      "execution_count": 50,
      "outputs": [
        {
          "output_type": "stream",
          "name": "stdout",
          "text": [
            "<class 'int'> <class 'int'> <class 'int'> <class 'str'> <class 'int'> <class 'str'> <class 'str'> <class 'int'> <class 'int'> <class 'int'>\n"
          ]
        }
      ]
    },
    {
      "cell_type": "code",
      "source": [],
      "metadata": {
        "id": "hiKPI3YP-2w4"
      },
      "execution_count": null,
      "outputs": []
    },
    {
      "cell_type": "code",
      "source": [],
      "metadata": {
        "id": "29yPmv5Z8szT"
      },
      "execution_count": null,
      "outputs": []
    }
  ]
}